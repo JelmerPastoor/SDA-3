{
 "cells": [
  {
   "cell_type": "markdown",
   "id": "actual-anaheim",
   "metadata": {
    "id": "actual-anaheim"
   },
   "source": [
    "# SDA 2024 final assignment\n",
    "\n",
    "This Notebook contains the data and a describtion of the project. You will have to submit both your code and a scientific report, both count for 50%. A detailed rubric for grading is available in Brightspace, make sure to read this carefully. \n",
    "\n",
    "## Introduction\n",
    "The dataset below contains offset measurements of transient sources from galaxies, selected in ZTF data, this survey is described in [Graham et al. (2019)](https://ui.adsabs.harvard.edu/abs/2019PASP..131g8001G). The data is based on [van Velzen et al. (2019)](https://ui.adsabs.harvard.edu/abs/2019ApJ...872..198V/abstract), who did a search for tidal disruption events (TDEs) with ZTF. \n",
    "\n",
    "Each entry in the table contains the measurement of the average offset between a transient and its host galaxy. This offset is defined as: \n",
    "\n",
    "$$\n",
    "r\\equiv \\left[(x-x_{\\rm host})^2 + (y-y_{\\rm host})^2\\right]^{1/2},\n",
    "$$\n",
    "here $x$/$y$ are the pixel coordinates, which correspond to the R.A./Decl. coordinates of the transient, and $x_{\\rm host}$ is the position of the host galaxy in the reference frame. For each transient, we have multiple measurements of its x and y location, so we obtain multiple measurements of the offset. The dataset contains three different averages of these offsets: mean, median, and weighted-mean. You can pick one of these for your analysis. The dataset below only contains events with an offset smaller than 0.8 arcsec.\n",
    "\n",
    "Based on the $r$ parameter, we can divide extra-galactic transients into two classes: \n",
    "- Nuclear transients. These are transients with a true offset $r=0$. These included variable AGN and TDEs. We expect that the flare originates from the center of its host galaxy, because that's where the supermassive black hole resides.  \n",
    "\n",
    "- Transients that follow the stellar light distribution of their host galaxy. For this study with ZTF, we assume all supernovae belong to this class.   \n",
    "\n",
    "The dataset has the following `classification` labels:\n",
    "\n",
    "- We have `'AGN'` labels. These are flares from known active galactic nuclei, i.e., accreting supermassive black holes. We know these are AGN based additional information from other catalogs. \n",
    "\n",
    "- We have `SN` labels. These include different supernovae subtypes (`SN Ia`, `SN II`, etc.).   \n",
    "\n",
    "- We have `None` labels, the classification of these sources is unknown. They could be TDE, AGN, or SNe. \n",
    "\n",
    "If we assume that the all nuclear flares have the same uncertainty on their x and y position measurement, the offset distribution of nuclear flares can be modeled as \n",
    "\n",
    "$$\n",
    "P_{\\rm nuclear}(r)dr = \\sqrt{2\\pi}  \\frac{r}{\\sigma_{xy}}  g(r,\\sigma_{xy}) dr,\n",
    "$$ \n",
    "here $g(\\mu, \\sigma)$ is the Gaussian PDF with $\\mu=0$ and variance $\\sigma^2$. And $\\sigma_{xy}$ is the typical  uncertainty on the position of the x and or y coordinate. \n",
    "\n",
    "\n",
    "\n",
    "## Final goal and output\n",
    "We have the following final objective:  *a measurement of the fraction of SNe among the unknown events, as a function of offset from their host galaxy*. \n",
    "\n",
    "The broader context of this objective is the following (see also the reading material of week 5). We ultimately care about the TDEs. The nuclear ZTF transients are a mix of TDE and AGN. With more data, we can in principle identify the AGN. So your measurement of $f_{\\rm nuc}$ can be used to estimate the background due to supernovae in a search for TDEs. \n",
    "\n",
    "## Intermediate steps\n",
    "Follow these intermediate steps and mark them in your code.  \n",
    "\n",
    "- Plot the offset distribution of the SN, AGN and unknown sources. Discuss the following two points:\n",
    "  - Describe the difference between the SN and nuclear flare offset distribution.\n",
    "  - Is the offset distribution of the unknown sources consistent with originating solely from the SN offset distribution? Or solely from the AGN offset distribution? (hint: there is a statistical test to quantify this)\n",
    "  \n",
    "- Write a python function for $P_{\\rm nuc}$. To confirm it works, simulate a sample of x and y coordinates for a Gaussian PDF, both with $\\mu=0$ and $\\sigma=1$. Plot this simulated distribution together with your function for $P_{\\rm nuc}$ (this is not a plot for your report, just a test that things are working). \n",
    "\n",
    "- Use the PDF $P_{\\rm nuc}$ to obtain a measurement of $\\sigma_{xy}$ for the sample of AGN flares. Plot the result and comment on the result: \n",
    "    - Does your inference of $\\sigma_{xy}$ match what you expected based on the typical sample variance in the position measurements?  \n",
    "    - What is the uncertainty on your measurement of $\\sigma_{xy}$?\n",
    "    - Compute $r_{90}$, the value of $r$ below which we find all nuclear transients: $\\int_0^{r_{90}} P_{\\rm nuc} dr \\equiv 0.9$. \n",
    "\n",
    "- To estimate the PDF for the offset distribution of SN, we a Gaussian Kernel Density Estimation (KDE; as discussed in the lecture of week 5).   \n",
    "\n",
    "- In the previous two steps, you obtained two PDFs: one for SN and one for nuclear transients. The offset distribution of transients with an unknown classification must originate from one of these two PDFs. You can therefore write own a final PDF for the unknown distribution: \n",
    "$$\n",
    "P(r|f_{\\rm nuc}) = f_{\\rm nuc} P_{\\rm nuclear}(r|\\sigma_{xy}) + (1-f_{\\rm nuc}) P_{\\rm SN}(r)\n",
    "$$\n",
    "You can fix $\\sigma_{xy}$ using the measurement from the AGN sample. So the only free-parameter is $f_{\\rm nuc}$, the fraction of nuclear transients in this population. \n",
    "\n",
    "- With $f_{\\rm nuc}$ measured, you can estimate the number of SNe and nuclear flares as a function $r$. Make a nice summary figure (example was given on  blackboard during the lecture). In the report, give the fraction of SNe for $r_{90}$. \n",
    "\n",
    "\n",
    "\n",
    "## Additionation analysis: pick one objective\n",
    "This is a rich dataset and much more can be explored. For your project, _pick one_ of the following ideas and include these in your code and report. \n",
    "\n",
    "- Instead of fitting for $\\sigma_{xy}$ you can predict the distribution of nuclear flares with zero free parameters using the sample variance of the R.A. and Decl. measurements. Does this yield a better or worse description of the AGN offset distribution compared to using $\\sigma_{\\rm xy}$ as a free parameter?\n",
    "    \n",
    "- Keeping $\\sigma_{xy}$ fixed for the fit of the offset distribution of the unknown sources might slightly underestimate the uncertainty on $f_{\\rm nuc}$ (explain why). Instead, you can also fit for the two free parameters simultaneously, using the offset distribution of all unknown sources. How does your inference of $f_{\\rm nuc}$ change when you use this approach? \n",
    "\n",
    "\n",
    "## Submitting formats\n",
    "We ask you to make a single `.py` script that we can execute to reproduce all plots of our report. Please submit a single zipped file that contains a PDF of your report plus the code and all attachments needed to run your code (including the data needed to run your code). \n",
    "\n",
    "## Final note\n",
    "Both the report and the code will be graded. The full rubrics for grading are listed in a separate PDF: read this carefully!\n",
    "\n",
    "\n",
    "Good luck! \n"
   ]
  },
  {
   "cell_type": "markdown",
   "id": "extensive-surgery",
   "metadata": {
    "id": "extensive-surgery"
   },
   "source": [
    "## Data format\n",
    "\n",
    "The table below containing the data has the following columns:\n",
    "\n",
    "Columns         | Note\n",
    ":------------------- |----\n",
    "name              | Unique ID to identify each flare/filter combination        \n",
    "classification    | Spectroscopic classification, None if the class is unknown\n",
    "filter            | Fitler of the ZTF observation (g or r)\n",
    "ra_flare_median   | Median of the R.A. measurement in the difference image (deg)\n",
    "dec_flare_median  | Median of the Decl. measurement in the difference image (deg)\n",
    "ra_flare_var      | Sample variance of R.A. measurements in the diff image (deg)\n",
    "dec_flare_var     | Sample variance of Decl. measurements in the diff image (deg)\n",
    "ra_host           | R.A. of the host galaxy, as measured in the reference image (deg)\n",
    "dec_host          | Decl. of the host galaxy, as measured in the reference image (deg)\n",
    "offset_mean       | The mean offset between diff images positions and ref (arcsec)\n",
    "offset_median     | The median offset between diff images positions and ref (arcsec)\n",
    "offset_wmean      | The weighted-mean offset, using Eq. 3 of [vV+20](https://ui.adsabs.harvard.edu/abs/2019ApJ...872..198V/abstract) (arcsec)\n",
    "sig               | The SNR of the offset measurement (not needed for this project)\n",
    "n_obs             | The number of observations used to compute the mean/mean etc.\n",
    "flare_peak_mag    | The peak magnitude of the flare \n",
    " "
   ]
  },
  {
   "cell_type": "markdown",
   "id": "final-munich",
   "metadata": {
    "id": "final-munich"
   },
   "source": [
    "## Dataset"
   ]
  },
  {
   "cell_type": "code",
   "execution_count": 1,
   "id": "saved-navigator",
   "metadata": {
    "colab": {
     "base_uri": "https://localhost:8080/",
     "height": 721
    },
    "id": "saved-navigator",
    "outputId": "262e1bf3-29af-4f8d-bbf2-eb7988c28422"
   },
   "outputs": [
    {
     "name": "stdout",
     "output_type": "stream",
     "text": [
      "name classification filter ...        sig         n_obs flare_peak_mag\n",
      "---- -------------- ------ ... ------------------ ----- --------------\n",
      "  13            AGN      g ... 1.1875973978999215 230.0        19.3193\n",
      "  15            AGN      g ...  1.127792447808034  25.0        19.0154\n",
      "  16            AGN      r ... 0.6663038244225937  20.0        19.1474\n",
      "  19           None      r ...  2.722447681478429  12.0        18.7231\n",
      "  21           None      r ... 0.9630824987803616  15.0        19.1541\n",
      "  29            AGN      r ... 0.7008187489929851  18.0        19.4785\n",
      "  31          SN Ia      r ... 0.8356012116696807  22.0        18.8773\n",
      "  32          SN Ia      g ... 0.3411046620213891   9.0        18.6357\n",
      "  36            AGN      g ... 0.8795692168364294  13.0         19.054\n",
      "  37            AGN      r ... 1.2783408734014023  17.0        18.9953\n",
      " ...            ...    ... ...                ...   ...            ...\n",
      "1907            AGN      r ... 2.4114886400710724  82.0        19.4316\n",
      "1920            AGN      g ... 0.8663460180552489  12.0        19.3418\n",
      "1930           None      g ...  2.321586695171029   9.0        19.4346\n",
      "1936            AGN      r ...  1.369645177494529  44.0        19.4626\n",
      "1941           None      r ... 0.8604723159726082   9.0         19.452\n",
      "1942           None      g ...  0.540692348495288  14.0        18.8212\n",
      "1945            AGN      r ... 0.2409003666672019  13.0        19.4128\n",
      "1947           None      r ... 1.0628434296465967  14.0        19.4844\n",
      "1949            AGN      g ... 0.7981497520153473  15.0        19.4605\n",
      "1950            AGN      r ... 0.9207395303790115  17.0         19.228\n",
      "1955           None      g ... 0.9625643319707318   8.0        18.7316\n",
      "Length = 545 rows\n",
      "545\n",
      "# unknown sources 187\n"
     ]
    }
   ],
   "source": [
    "import astropy.io.ascii\n",
    "import numpy as np\n",
    "from matplotlib import pyplot as plt\n",
    "\n",
    "\n",
    "data = astropy.io.ascii.read('./ZTF_flares.dat') # data from of van Velzen et al. 2019\n",
    "print (data)\n",
    "print (len(data))\n",
    "print ('# unknown sources', sum(data['classification']=='None'))"
   ]
  },
  {
   "cell_type": "markdown",
   "id": "significant-myanmar",
   "metadata": {},
   "source": [
    "### Reminder: do not hand in this Notebook, but write a Python script called `main.py`\n",
    "We should be able to reproduce the plots and main results from your report by running `python main.py`\n",
    "\n",
    "All tools from `numpy`, `scipy`, or `astropy` are allowed. If you prefer, writing seperate modules that are imported in the main script is allowed. "
   ]
  }
 ],
 "metadata": {
  "colab": {
   "provenance": []
  },
  "kernelspec": {
   "display_name": "Python 3",
   "language": "python",
   "name": "python3"
  },
  "language_info": {
   "codemirror_mode": {
    "name": "ipython",
    "version": 3
   },
   "file_extension": ".py",
   "mimetype": "text/x-python",
   "name": "python",
   "nbconvert_exporter": "python",
   "pygments_lexer": "ipython3",
   "version": "3.9.2"
  }
 },
 "nbformat": 4,
 "nbformat_minor": 5
}
